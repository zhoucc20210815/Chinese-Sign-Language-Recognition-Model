{
 "cells": [
  {
   "cell_type": "markdown",
   "metadata": {},
   "source": [
    "# Training and Testing"
   ]
  },
  {
   "cell_type": "markdown",
   "metadata": {
    "execution": {
     "iopub.execute_input": "2020-10-07T01:27:39.670553Z",
     "iopub.status.busy": "2020-10-07T01:27:39.670345Z",
     "iopub.status.idle": "2020-10-07T01:27:39.673289Z",
     "shell.execute_reply": "2020-10-07T01:27:39.672721Z",
     "shell.execute_reply.started": "2020-10-07T01:27:39.670531Z"
    }
   },
   "source": [
    "### Created .yaml file for identifying training and validation data and defining classes"
   ]
  },
  {
   "cell_type": "code",
   "execution_count": 7,
   "metadata": {
    "execution": {
     "iopub.execute_input": "2020-10-07T17:07:55.258412Z",
     "iopub.status.busy": "2020-10-07T17:07:55.258239Z",
     "iopub.status.idle": "2020-10-07T17:07:55.368811Z",
     "shell.execute_reply": "2020-10-07T17:07:55.368135Z",
     "shell.execute_reply.started": "2020-10-07T17:07:55.258392Z"
    }
   },
   "outputs": [
    {
     "name": "stdout",
     "output_type": "stream",
     "text": [
      "train: chinese_gesture_yolo/images/train\n",
      "val: chinese_gesture_yolo/images/validation\n",
      "nc: 4\n",
      "names: ['arrive',\n",
      "        'food',\n",
      "        'good',\n",
      "        'you']\n"
     ]
    }
   ],
   "source": [
    "%cat Chinese_Gesture_yolo.yaml"
   ]
  },
  {
   "cell_type": "markdown",
   "metadata": {},
   "source": [
    "# Training on GPU"
   ]
  },
  {
   "cell_type": "markdown",
   "metadata": {},
   "source": [
    "I trained my model on a T4 GPU in Colab. The yolov5s.yaml model accepts input images of size (pixels) 640. To improve training efficiency, I resized the `img` parameter from 1920 proportionally to 480. I conducted three training sessions with epochs set to 5, 20, and 50 respectively."
   ]
  },
  {
   "cell_type": "code",
   "execution_count": null,
   "metadata": {
    "colab": {
     "base_uri": "https://localhost:8080/",
     "height": 53
    },
    "colab_type": "code",
    "execution": {
     "iopub.execute_input": "2020-10-07T18:47:26.505070Z",
     "iopub.status.busy": "2020-10-07T18:47:26.504862Z",
     "iopub.status.idle": "2020-10-07T18:47:26.627941Z",
     "shell.execute_reply": "2020-10-07T18:47:26.627245Z",
     "shell.execute_reply.started": "2020-10-07T18:47:26.505048Z"
    },
    "id": "wbvMlHd_QwMG",
    "outputId": "669566b2-391f-4596-f290-110e2e177946"
   },
   "outputs": [],
   "source": [
    "import torch\n",
    "from IPython.display import Image, clear_output, Video  # to display images\n",
    "import cv2\n",
    "from PIL import Image\n",
    "import os\n",
    "import numpy as np\n",
    "from matplotlib import pyplot as plt\n",
    "import matplotlib.image as mpimg\n",
    "clear_output()\n",
    "!pwd\n",
    "print('Setup complete. Using torch %s %s' % (torch.__version__, torch.cuda.get_device_properties(0) if torch.cuda.is_available() else 'CPU'))"
   ]
  },
  {
   "cell_type": "code",
   "execution_count": null,
   "metadata": {},
   "outputs": [],
   "source": [
    "%cd /content/drive/MyDrive/2023_AI_4_Media_Zixi_Zhou/yolov5"
   ]
  },
  {
   "cell_type": "code",
   "execution_count": null,
   "metadata": {},
   "outputs": [],
   "source": [
    "!python train.py --img 480 --batch 16 --epochs 50 --data Chinese_Gesture_yolo.yaml --cfg models/yolov5s.yaml --name cg_example"
   ]
  },
  {
   "cell_type": "markdown",
   "metadata": {},
   "source": [
    "## Testing with Camera"
   ]
  },
  {
   "cell_type": "code",
   "execution_count": 2,
   "metadata": {},
   "outputs": [
    {
     "name": "stdout",
     "output_type": "stream",
     "text": [
      "/Users/zhouzixi/Desktop/2023_AI_4_Media_Zixi_Zhou/yolov5\n"
     ]
    }
   ],
   "source": [
    "%cd yolov5"
   ]
  },
  {
   "cell_type": "code",
   "execution_count": null,
   "metadata": {},
   "outputs": [],
   "source": [
    "!python detect.py --source 0 --img 480 --weights best3.pt --conf .4 "
   ]
  }
 ],
 "metadata": {
  "accelerator": "GPU",
  "colab": {
   "collapsed_sections": [],
   "include_colab_link": true,
   "name": "YOLOv5 Tutorial",
   "provenance": [],
   "toc_visible": true
  },
  "kernelspec": {
   "display_name": "Python 3",
   "language": "python",
   "name": "python3"
  },
  "language_info": {
   "codemirror_mode": {
    "name": "ipython",
    "version": 3
   },
   "file_extension": ".py",
   "mimetype": "text/x-python",
   "name": "python",
   "nbconvert_exporter": "python",
   "pygments_lexer": "ipython3",
   "version": "3.11.8"
  }
 },
 "nbformat": 4,
 "nbformat_minor": 4
}
